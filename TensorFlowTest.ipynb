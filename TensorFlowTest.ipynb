{
  "nbformat": 4,
  "nbformat_minor": 0,
  "metadata": {
    "colab": {
      "name": "TensorFlowTest.ipynb",
      "version": "0.3.2",
      "provenance": [],
      "collapsed_sections": [],
      "include_colab_link": true
    },
    "kernelspec": {
      "name": "python3",
      "display_name": "Python 3"
    },
    "accelerator": "GPU"
  },
  "cells": [
    {
      "cell_type": "markdown",
      "metadata": {
        "id": "view-in-github",
        "colab_type": "text"
      },
      "source": [
        "<a href=\"https://colab.research.google.com/github/mahirsowad3/TensorFlowColabNotebook/blob/master/TensorFlowTest.ipynb\" target=\"_parent\"><img src=\"https://colab.research.google.com/assets/colab-badge.svg\" alt=\"Open In Colab\"/></a>"
      ]
    },
    {
      "metadata": {
        "id": "OH_Pljp3BvMw",
        "colab_type": "code",
        "outputId": "9154a507-c7be-4ab6-ab12-9c4f9c5a3996",
        "colab": {
          "base_uri": "https://localhost:8080/",
          "height": 52
        }
      },
      "cell_type": "code",
      "source": [
        "import tensorflow as tf\n",
        "\n",
        "hello = tf.constant('Hello World, from Mahir!')\n",
        "random = tf.constant('random test')\n",
        "\n",
        "sess = tf.Session()\n",
        "\n",
        "#Run the session\n",
        "print(sess.run(hello))\n",
        "print(sess.run(random))"
      ],
      "execution_count": 1,
      "outputs": [
        {
          "output_type": "stream",
          "text": [
            "b'Hello World, from Mahir!'\n",
            "b'random test'\n"
          ],
          "name": "stdout"
        }
      ]
    }
  ]
}